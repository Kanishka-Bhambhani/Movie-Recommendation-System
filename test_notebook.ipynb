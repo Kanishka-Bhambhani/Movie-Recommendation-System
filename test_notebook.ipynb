{
 "cells": [
  {
   "cell_type": "code",
   "execution_count": 1,
   "metadata": {},
   "outputs": [
    {
     "name": "stdout",
     "output_type": "stream",
     "text": [
      "Reading data from file train.pkl\n",
      "Processing data\n",
      "Training model\n"
     ]
    }
   ],
   "source": [
    "from deployment.CFModel import CFModel\n",
    "\n",
    "trainModel = CFModel(\"train.pkl\")\n"
   ]
  },
  {
   "cell_type": "code",
   "execution_count": 3,
   "metadata": {},
   "outputs": [
    {
     "data": {
      "text/plain": [
       "['the+perfect+holiday+2007',\n",
       " 'eat+pray+love+2010',\n",
       " 'american+soldiers+a+day+in+iraq+2005',\n",
       " 'i+was+a+communist+for+the+fbi+1951',\n",
       " 'rasputin+and+the+empress+1932',\n",
       " 'nobody+else+but+you+2011',\n",
       " 'the+girl+from+the+marsh+croft+1917',\n",
       " 'josh+and+s.a.m.+1993',\n",
       " 'frankie++alice+2010',\n",
       " 'under+our+skin+2008',\n",
       " 'headshot+2011',\n",
       " 'the+unknown+soldier+1985',\n",
       " 'down++out+with+the+dolls+2003',\n",
       " 'blue+city+1986',\n",
       " 'blonde+crazy+1931',\n",
       " 'jesus+1979',\n",
       " 'charles+bradley+soul+of+america+2012',\n",
       " 'a+better+life+2012',\n",
       " 'a+cinderella+story+2004',\n",
       " 'bullet+for+a+badman+1964']"
      ]
     },
     "execution_count": 3,
     "metadata": {},
     "output_type": "execute_result"
    }
   ],
   "source": [
    "trainModel.predictForUser(572869)"
   ]
  },
  {
   "cell_type": "code",
   "execution_count": 4,
   "metadata": {},
   "outputs": [],
   "source": [
    "trainModel.saveModel(\"oldModel\")"
   ]
  },
  {
   "cell_type": "code",
   "execution_count": 21,
   "metadata": {},
   "outputs": [
    {
     "name": "stdout",
     "output_type": "stream",
     "text": [
      "('47434', 'the+pirate+1948') 5\n",
      "('448152', 'stonehearst+asylum+2014') 4\n",
      "('107502', 'a+midsummer+nights+sex+comedy+1982') 4\n",
      "('85124', 'cool+hand+luke+1967') 5\n",
      "('496349', 'the+wrong+trousers+1993') 5\n",
      "('622104', 'off+beat+2004') 3\n",
      "('539551', 'suppose+they+gave+a+war+and+nobody+came+1970') 3\n",
      "('392707', 'the+wrong+trousers+1993') 3\n",
      "('118548', 'gods+and+monsters+1998') 4\n",
      "('405311', 'back+to+the+future+1985') 5\n",
      "('96270', 'independence+day+1996') 4\n"
     ]
    }
   ],
   "source": [
    "import pickle\n",
    "\n",
    "# read ratings.pkl\n",
    "with open(\"ratings.pkl\", \"rb\") as f:\n",
    "    ratings = pickle.load(f)\n",
    "\n",
    "i = 0\n",
    "for k, v in ratings.items():\n",
    "    print(k, v)\n",
    "    i += 1\n",
    "    if i > 10:\n",
    "        break"
   ]
  },
  {
   "cell_type": "code",
   "execution_count": 23,
   "metadata": {},
   "outputs": [
    {
     "name": "stdout",
     "output_type": "stream",
     "text": [
      "0th iteration\n"
     ]
    },
    {
     "name": "stderr",
     "output_type": "stream",
     "text": [
      "  1%|▏         | 10/681 [00:10<11:29,  1.03s/it]"
     ]
    },
    {
     "name": "stdout",
     "output_type": "stream",
     "text": [
      "average latency: 0.04843349456787109\n"
     ]
    },
    {
     "name": "stderr",
     "output_type": "stream",
     "text": [
      "  3%|▎         | 20/681 [00:20<11:15,  1.02s/it]"
     ]
    },
    {
     "name": "stdout",
     "output_type": "stream",
     "text": [
      "average latency: 0.03427361249923706\n"
     ]
    },
    {
     "name": "stderr",
     "output_type": "stream",
     "text": [
      "  4%|▍         | 30/681 [00:30<11:05,  1.02s/it]"
     ]
    },
    {
     "name": "stdout",
     "output_type": "stream",
     "text": [
      "average latency: 0.030933904647827148\n"
     ]
    },
    {
     "name": "stderr",
     "output_type": "stream",
     "text": [
      "  6%|▌         | 40/681 [00:41<11:02,  1.03s/it]"
     ]
    },
    {
     "name": "stdout",
     "output_type": "stream",
     "text": [
      "average latency: 0.03131760954856873\n"
     ]
    },
    {
     "name": "stderr",
     "output_type": "stream",
     "text": [
      "  7%|▋         | 50/681 [00:51<10:44,  1.02s/it]"
     ]
    },
    {
     "name": "stdout",
     "output_type": "stream",
     "text": [
      "average latency: 0.02906886100769043\n"
     ]
    },
    {
     "name": "stderr",
     "output_type": "stream",
     "text": [
      "  9%|▉         | 60/681 [01:01<10:33,  1.02s/it]"
     ]
    },
    {
     "name": "stdout",
     "output_type": "stream",
     "text": [
      "average latency: 0.027261308828989663\n"
     ]
    },
    {
     "name": "stderr",
     "output_type": "stream",
     "text": [
      " 10%|█         | 70/681 [01:11<10:23,  1.02s/it]"
     ]
    },
    {
     "name": "stdout",
     "output_type": "stream",
     "text": [
      "average latency: 0.025898586000714985\n"
     ]
    },
    {
     "name": "stderr",
     "output_type": "stream",
     "text": [
      " 11%|█         | 76/681 [01:18<10:28,  1.04s/it]\n"
     ]
    },
    {
     "ename": "KeyboardInterrupt",
     "evalue": "",
     "output_type": "error",
     "traceback": [
      "\u001b[0;31m---------------------------------------------------------------------------\u001b[0m",
      "\u001b[0;31mKeyboardInterrupt\u001b[0m                         Traceback (most recent call last)",
      "\u001b[0;32m/tmp/ipykernel_3916916/2736469947.py\u001b[0m in \u001b[0;36m<module>\u001b[0;34m\u001b[0m\n\u001b[1;32m     16\u001b[0m         \u001b[0mlatency_list\u001b[0m\u001b[0;34m.\u001b[0m\u001b[0mappend\u001b[0m\u001b[0;34m(\u001b[0m\u001b[0mtime\u001b[0m\u001b[0;34m.\u001b[0m\u001b[0mtime\u001b[0m\u001b[0;34m(\u001b[0m\u001b[0;34m)\u001b[0m \u001b[0;34m-\u001b[0m \u001b[0mstart\u001b[0m\u001b[0;34m)\u001b[0m\u001b[0;34m\u001b[0m\u001b[0;34m\u001b[0m\u001b[0m\n\u001b[1;32m     17\u001b[0m         \u001b[0mj\u001b[0m \u001b[0;34m+=\u001b[0m \u001b[0;36m1\u001b[0m\u001b[0;34m\u001b[0m\u001b[0;34m\u001b[0m\u001b[0m\n\u001b[0;32m---> 18\u001b[0;31m         \u001b[0mtime\u001b[0m\u001b[0;34m.\u001b[0m\u001b[0msleep\u001b[0m\u001b[0;34m(\u001b[0m\u001b[0;36m1\u001b[0m\u001b[0;34m)\u001b[0m\u001b[0;34m\u001b[0m\u001b[0;34m\u001b[0m\u001b[0m\n\u001b[0m\u001b[1;32m     19\u001b[0m         \u001b[0;32mif\u001b[0m \u001b[0mj\u001b[0m \u001b[0;34m%\u001b[0m \u001b[0;36m10\u001b[0m \u001b[0;34m==\u001b[0m \u001b[0;36m0\u001b[0m\u001b[0;34m:\u001b[0m\u001b[0;34m\u001b[0m\u001b[0;34m\u001b[0m\u001b[0m\n\u001b[1;32m     20\u001b[0m             \u001b[0mprint\u001b[0m\u001b[0;34m(\u001b[0m\u001b[0;34mf\"average latency: {sum(latency_list) / len(latency_list)}\"\u001b[0m\u001b[0;34m)\u001b[0m\u001b[0;34m\u001b[0m\u001b[0;34m\u001b[0m\u001b[0m\n",
      "\u001b[0;31mKeyboardInterrupt\u001b[0m: "
     ]
    }
   ],
   "source": [
    "import requests\n",
    "import time\n",
    "from tqdm import tqdm\n",
    "\n",
    "port = 8082\n",
    "master_string = f'http://17645-team12.isri.cmu.edu:{port}/recommend/__userID__'\n",
    "\n",
    "latency_list = []\n",
    "for i in range(10):\n",
    "    print(f\"{i}th iteration\")\n",
    "    j = 0\n",
    "    for k, v in tqdm(ratings.items()):\n",
    "        s = master_string.replace(\"__userID__\", str(k[0]))\n",
    "        start = time.time()\n",
    "        r = requests.get(s)\n",
    "        latency_list.append(time.time() - start)\n",
    "        j += 1\n",
    "        time.sleep(1)\n",
    "        if j % 10 == 0:\n",
    "            print(f\"average latency: {sum(latency_list) / len(latency_list)}\")\n",
    "\n"
   ]
  },
  {
   "cell_type": "code",
   "execution_count": 8,
   "metadata": {},
   "outputs": [
    {
     "name": "stdout",
     "output_type": "stream",
     "text": [
      "_id 62572e126fbfeda44dc5a467 <class 'bson.objectid.ObjectId'>\n",
      "userID 100041 <class 'str'>\n",
      "recommendations ['the+first+star+2009', 'the+wrong+trousers+1993', 'doc+of+the+dead+2014', 'a+close+shave+1995', 'a+sunday+in+hell+paris-roubaix+1977', 'year+of+the+dog+2007', 'stealing+home+1988', 'state+of+the+union+1948', 'moonshot_+the+flight+of+apollo+11+2009', 'passed+away+1992', 'the+way+you+wanted+me+1944', 'the+tesseract+2003', 'lets+scare+jessica+to+death+1971', 'bedlam+1946', 'the+darkest+hour+2011', 'amys+orgasm+2001', 'these+amazing+shadows+2011', 'goodbye+2011', 'age+of+consent+1969', 'equinox+1970'] <class 'list'>\n",
      "modelID Jenkins_20220412T22:16:18 <class 'str'>\n",
      "ts 2022-04-13 16:09:54.742000 <class 'datetime.datetime'>\n",
      "_id 6257392ed22c585c2b03c06e <class 'bson.objectid.ObjectId'>\n",
      "userID 100041 <class 'str'>\n",
      "recommendations ['the+first+star+2009', 'the+wrong+trousers+1993', 'doc+of+the+dead+2014', 'a+close+shave+1995', 'a+sunday+in+hell+paris-roubaix+1977', 'year+of+the+dog+2007', 'stealing+home+1988', 'state+of+the+union+1948', 'moonshot_+the+flight+of+apollo+11+2009', 'passed+away+1992', 'the+way+you+wanted+me+1944', 'the+tesseract+2003', 'lets+scare+jessica+to+death+1971', 'bedlam+1946', 'the+darkest+hour+2011', 'amys+orgasm+2001', 'these+amazing+shadows+2011', 'goodbye+2011', 'age+of+consent+1969', 'equinox+1970'] <class 'list'>\n",
      "modelID Jenkins_20220412T22:16:18 <class 'str'>\n",
      "ts 2022-04-13 16:57:18.462000 <class 'datetime.datetime'>\n"
     ]
    }
   ],
   "source": [
    "import helper as hlp\n",
    "service_recommendations_log_db = hlp.mongoDBHelper('aieng', 'service_recommendations_log')\n",
    "query = {'userID': '100041'}\n",
    "data = service_recommendations_log_db.collection.find(query).hint('userID_hashed')\n",
    "\n",
    "for record in data:\n",
    "    for k, v in record.items():\n",
    "        print(k, v, type(v))\n",
    "\n"
   ]
  },
  {
   "cell_type": "code",
   "execution_count": 12,
   "metadata": {},
   "outputs": [
    {
     "name": "stdout",
     "output_type": "stream",
     "text": [
      "-1 day, 23:59:57.999099\n",
      "2.000901\n"
     ]
    }
   ],
   "source": [
    "from datetime import datetime\n",
    "start = datetime.now()\n",
    "time.sleep(2)\n",
    "end = datetime.now()\n",
    "\n",
    "print(start - end)\n",
    "\n",
    "c = start - end\n",
    "print(abs(c.total_seconds()))"
   ]
  },
  {
   "cell_type": "code",
   "execution_count": null,
   "metadata": {},
   "outputs": [],
   "source": []
  }
 ],
 "metadata": {
  "interpreter": {
   "hash": "8c4e51b31d065409f0524f3f809ddd0c0f28cb4015ef94756f9251e16be29ddc"
  },
  "kernelspec": {
   "display_name": "Python 3.9.7 ('aieng')",
   "language": "python",
   "name": "python3"
  },
  "language_info": {
   "codemirror_mode": {
    "name": "ipython",
    "version": 3
   },
   "file_extension": ".py",
   "mimetype": "text/x-python",
   "name": "python",
   "nbconvert_exporter": "python",
   "pygments_lexer": "ipython3",
   "version": "3.9.7"
  },
  "orig_nbformat": 4
 },
 "nbformat": 4,
 "nbformat_minor": 2
}
